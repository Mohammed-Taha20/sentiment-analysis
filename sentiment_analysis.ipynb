{
  "nbformat": 4,
  "nbformat_minor": 0,
  "metadata": {
    "colab": {
      "provenance": [],
      "collapsed_sections": [
        "LdNs6uZAjM35",
        "A7f7ORJKljS7",
        "in4t4HuokbUn",
        "3v0jqEeuDuKR",
        "ijDZEW86DkjR",
        "pifSNssWDoA4",
        "6chS7dNoFNcD",
        "Zc1pDTjWqkVE"
      ],
      "gpuType": "T4",
      "authorship_tag": "ABX9TyNKct61mfeNMIGN2MeeBn64",
      "include_colab_link": true
    },
    "kernelspec": {
      "name": "python3",
      "display_name": "Python 3"
    },
    "language_info": {
      "name": "python"
    },
    "accelerator": "GPU"
  },
  "cells": [
    {
      "cell_type": "markdown",
      "metadata": {
        "id": "view-in-github",
        "colab_type": "text"
      },
      "source": [
        "<a href=\"https://colab.research.google.com/github/Mohammed-Taha20/sentiment-analysis/blob/main/sentiment_analysis.ipynb\" target=\"_parent\"><img src=\"https://colab.research.google.com/assets/colab-badge.svg\" alt=\"Open In Colab\"/></a>"
      ]
    },
    {
      "cell_type": "markdown",
      "source": [
        "# settings"
      ],
      "metadata": {
        "id": "x3hoySaTDh_N"
      }
    },
    {
      "cell_type": "markdown",
      "source": [
        "## Kaggle API"
      ],
      "metadata": {
        "id": "LdNs6uZAjM35"
      }
    },
    {
      "cell_type": "markdown",
      "source": [
        "**Generate an API Token:**\n",
        "\n",
        "a) Go to the Kaggle website and log in to your account.\n",
        "\n",
        "b)Navigate to your Account settings (click on your user profile picture in the header, then select \"Account\").\n",
        "\n",
        "c) Scroll down to the API section.\n",
        "\n",
        "d) Click on the \"Create New API Token\" button. This will download a file named kaggle.json containing your API credentials (username and key).\n",
        "\n",
        "e) use the next command to upload the kaggle.json\n"
      ],
      "metadata": {
        "id": "hRpXDe_DjRP_"
      }
    },
    {
      "cell_type": "code",
      "source": [
        "from google.colab import files\n",
        "files.upload()"
      ],
      "metadata": {
        "id": "o_ed6Sa-C-VN"
      },
      "execution_count": null,
      "outputs": []
    },
    {
      "cell_type": "markdown",
      "source": [
        "**Place the kaggle.json file:**\n",
        "\n",
        "a) Linux/OSX/UNIX-based systems: Move the kaggle.json file to the ~/.kaggle/ directory. If the .kaggle directory does not exist, create it.\n",
        "\n",
        "b) Windows: Move the kaggle.json file to `C:\\Users\\<Windows-username>\\.kaggle\\`.\n",
        "\n",
        "c)Important: Ensure the permissions of the kaggle.json file are set correctly to chmod 600 (read/write only for the owner) for security reasons."
      ],
      "metadata": {
        "id": "qeAORHQFkIna"
      }
    },
    {
      "cell_type": "code",
      "source": [
        "!mkdir -p ~/.kaggle\n",
        "!cp kaggle.json ~/.kaggle/\n",
        "!chmod 600 ~/.kaggle/kaggle.json"
      ],
      "metadata": {
        "id": "brAb6OoIDR78"
      },
      "execution_count": 3,
      "outputs": []
    },
    {
      "cell_type": "markdown",
      "source": [
        "##HuggineFace"
      ],
      "metadata": {
        "id": "A7f7ORJKljS7"
      }
    },
    {
      "cell_type": "markdown",
      "source": [
        "**HuggineFace API**\n",
        "\n",
        "a) Log in to your Huggine Face account.\n",
        "\n",
        "b) create huggineface token from this link: https://huggingface.co/settings/tokens"
      ],
      "metadata": {
        "id": "mwdFznP3ltae"
      }
    },
    {
      "cell_type": "code",
      "source": [
        "from huggingface_hub import login\n",
        "    from google.colab import userdata\n",
        "\n",
        "    HF_TOKEN = \"Your_huggineface_token\"\n",
        "\n",
        "    if HF_TOKEN:\n",
        "        login(HF_TOKEN)\n",
        "        print(\"Successfully logged in to Hugging Face!\")\n",
        "    else:\n",
        "        print(\"Hugging Face token not found in Colab Secrets. Please add it.\")\n"
      ],
      "metadata": {
        "id": "3eh9iNTKlm5i"
      },
      "execution_count": null,
      "outputs": []
    },
    {
      "cell_type": "markdown",
      "source": [
        "## Dataset API"
      ],
      "metadata": {
        "id": "in4t4HuokbUn"
      }
    },
    {
      "cell_type": "code",
      "execution_count": 4,
      "metadata": {
        "colab": {
          "base_uri": "https://localhost:8080/"
        },
        "id": "7X0rRVW9_uqw",
        "outputId": "6450f9d6-8d94-4bac-e5f3-92dde92bb6ea"
      },
      "outputs": [
        {
          "output_type": "stream",
          "name": "stdout",
          "text": [
            "Dataset URL: https://www.kaggle.com/datasets/arhamrumi/amazon-product-reviews\n",
            "License(s): CC0-1.0\n",
            "Downloading amazon-product-reviews.zip to /content\n",
            " 60% 69.0M/115M [00:00<00:00, 363MB/s]\n",
            "100% 115M/115M [00:00<00:00, 428MB/s] \n"
          ]
        }
      ],
      "source": [
        "!kaggle datasets download arhamrumi/amazon-product-reviews"
      ]
    },
    {
      "cell_type": "code",
      "source": [
        "!unzip /content/amazon-product-reviews.zip"
      ],
      "metadata": {
        "colab": {
          "base_uri": "https://localhost:8080/"
        },
        "id": "k1dRCuq-Db2h",
        "outputId": "400839ea-02de-4767-c2ba-9f7e0cfaca6e"
      },
      "execution_count": 5,
      "outputs": [
        {
          "output_type": "stream",
          "name": "stdout",
          "text": [
            "Archive:  /content/amazon-product-reviews.zip\n",
            "  inflating: Reviews.csv             \n"
          ]
        }
      ]
    },
    {
      "cell_type": "code",
      "source": [
        "!pip install -q transformers accelerate bitsandbytes langchain_core langchain_community langchain langchain_huggingface torch"
      ],
      "metadata": {
        "id": "hFrbvl7cHond"
      },
      "execution_count": 15,
      "outputs": []
    },
    {
      "cell_type": "markdown",
      "source": [
        "## imports"
      ],
      "metadata": {
        "id": "3v0jqEeuDuKR"
      }
    },
    {
      "cell_type": "code",
      "source": [
        "import pandas as pd\n",
        "from transformers import AutoModelForCausalLM, AutoTokenizer, pipeline ,BitsAndBytesConfig\n",
        "from langchain_core.output_parsers import StrOutputParser ,JsonOutputParser\n",
        "from langchain_core.prompts import ChatPromptTemplate\n",
        "from langchain_huggingface import HuggingFacePipeline, ChatHuggingFace\n",
        "import torch\n"
      ],
      "metadata": {
        "id": "J8RbkoQIDtAq"
      },
      "execution_count": 1,
      "outputs": []
    },
    {
      "cell_type": "markdown",
      "source": [
        "# data"
      ],
      "metadata": {
        "id": "ijDZEW86DkjR"
      }
    },
    {
      "cell_type": "markdown",
      "source": [
        "## preprossesing"
      ],
      "metadata": {
        "id": "pifSNssWDoA4"
      }
    },
    {
      "cell_type": "code",
      "source": [
        "reviews = pd.read_csv(\"/content/Reviews.csv\", nrows=300)\n",
        "reviews"
      ],
      "metadata": {
        "id": "fVbtE1ssDm9L"
      },
      "execution_count": null,
      "outputs": []
    },
    {
      "cell_type": "code",
      "source": [
        "reviews.drop([\"Id\", \"ProductId\", \"UserId\", \"ProfileName\", \"HelpfulnessNumerator\", \"HelpfulnessDenominator\", \"Time\",\"Summary\" ], axis=1, inplace=True)\n",
        "reviews"
      ],
      "metadata": {
        "colab": {
          "base_uri": "https://localhost:8080/",
          "height": 423
        },
        "id": "GYdBdIIQELc8",
        "outputId": "ebeae5eb-e49d-4f18-9522-7a2a0acfa8c7"
      },
      "execution_count": 3,
      "outputs": [
        {
          "output_type": "execute_result",
          "data": {
            "text/plain": [
              "     Score                                               Text\n",
              "0        5  I have bought several of the Vitality canned d...\n",
              "1        1  Product arrived labeled as Jumbo Salted Peanut...\n",
              "2        4  This is a confection that has been around a fe...\n",
              "3        2  If you are looking for the secret ingredient i...\n",
              "4        5  Great taffy at a great price.  There was a wid...\n",
              "..     ...                                                ...\n",
              "295      5  I've been feeling extremely tired around the l...\n",
              "296      4  The energy shot truly does work! It had a terr...\n",
              "297      5  I've tried 5-hour energy, red rain, NOS, and o...\n",
              "298      5  If you're looking for an energy boost without ...\n",
              "299      5  I first found Steaz Berry Energy Shots at a lo...\n",
              "\n",
              "[300 rows x 2 columns]"
            ],
            "text/html": [
              "\n",
              "  <div id=\"df-c905544e-b9f3-4154-9089-6427292c3400\" class=\"colab-df-container\">\n",
              "    <div>\n",
              "<style scoped>\n",
              "    .dataframe tbody tr th:only-of-type {\n",
              "        vertical-align: middle;\n",
              "    }\n",
              "\n",
              "    .dataframe tbody tr th {\n",
              "        vertical-align: top;\n",
              "    }\n",
              "\n",
              "    .dataframe thead th {\n",
              "        text-align: right;\n",
              "    }\n",
              "</style>\n",
              "<table border=\"1\" class=\"dataframe\">\n",
              "  <thead>\n",
              "    <tr style=\"text-align: right;\">\n",
              "      <th></th>\n",
              "      <th>Score</th>\n",
              "      <th>Text</th>\n",
              "    </tr>\n",
              "  </thead>\n",
              "  <tbody>\n",
              "    <tr>\n",
              "      <th>0</th>\n",
              "      <td>5</td>\n",
              "      <td>I have bought several of the Vitality canned d...</td>\n",
              "    </tr>\n",
              "    <tr>\n",
              "      <th>1</th>\n",
              "      <td>1</td>\n",
              "      <td>Product arrived labeled as Jumbo Salted Peanut...</td>\n",
              "    </tr>\n",
              "    <tr>\n",
              "      <th>2</th>\n",
              "      <td>4</td>\n",
              "      <td>This is a confection that has been around a fe...</td>\n",
              "    </tr>\n",
              "    <tr>\n",
              "      <th>3</th>\n",
              "      <td>2</td>\n",
              "      <td>If you are looking for the secret ingredient i...</td>\n",
              "    </tr>\n",
              "    <tr>\n",
              "      <th>4</th>\n",
              "      <td>5</td>\n",
              "      <td>Great taffy at a great price.  There was a wid...</td>\n",
              "    </tr>\n",
              "    <tr>\n",
              "      <th>...</th>\n",
              "      <td>...</td>\n",
              "      <td>...</td>\n",
              "    </tr>\n",
              "    <tr>\n",
              "      <th>295</th>\n",
              "      <td>5</td>\n",
              "      <td>I've been feeling extremely tired around the l...</td>\n",
              "    </tr>\n",
              "    <tr>\n",
              "      <th>296</th>\n",
              "      <td>4</td>\n",
              "      <td>The energy shot truly does work! It had a terr...</td>\n",
              "    </tr>\n",
              "    <tr>\n",
              "      <th>297</th>\n",
              "      <td>5</td>\n",
              "      <td>I've tried 5-hour energy, red rain, NOS, and o...</td>\n",
              "    </tr>\n",
              "    <tr>\n",
              "      <th>298</th>\n",
              "      <td>5</td>\n",
              "      <td>If you're looking for an energy boost without ...</td>\n",
              "    </tr>\n",
              "    <tr>\n",
              "      <th>299</th>\n",
              "      <td>5</td>\n",
              "      <td>I first found Steaz Berry Energy Shots at a lo...</td>\n",
              "    </tr>\n",
              "  </tbody>\n",
              "</table>\n",
              "<p>300 rows × 2 columns</p>\n",
              "</div>\n",
              "    <div class=\"colab-df-buttons\">\n",
              "\n",
              "  <div class=\"colab-df-container\">\n",
              "    <button class=\"colab-df-convert\" onclick=\"convertToInteractive('df-c905544e-b9f3-4154-9089-6427292c3400')\"\n",
              "            title=\"Convert this dataframe to an interactive table.\"\n",
              "            style=\"display:none;\">\n",
              "\n",
              "  <svg xmlns=\"http://www.w3.org/2000/svg\" height=\"24px\" viewBox=\"0 -960 960 960\">\n",
              "    <path d=\"M120-120v-720h720v720H120Zm60-500h600v-160H180v160Zm220 220h160v-160H400v160Zm0 220h160v-160H400v160ZM180-400h160v-160H180v160Zm440 0h160v-160H620v160ZM180-180h160v-160H180v160Zm440 0h160v-160H620v160Z\"/>\n",
              "  </svg>\n",
              "    </button>\n",
              "\n",
              "  <style>\n",
              "    .colab-df-container {\n",
              "      display:flex;\n",
              "      gap: 12px;\n",
              "    }\n",
              "\n",
              "    .colab-df-convert {\n",
              "      background-color: #E8F0FE;\n",
              "      border: none;\n",
              "      border-radius: 50%;\n",
              "      cursor: pointer;\n",
              "      display: none;\n",
              "      fill: #1967D2;\n",
              "      height: 32px;\n",
              "      padding: 0 0 0 0;\n",
              "      width: 32px;\n",
              "    }\n",
              "\n",
              "    .colab-df-convert:hover {\n",
              "      background-color: #E2EBFA;\n",
              "      box-shadow: 0px 1px 2px rgba(60, 64, 67, 0.3), 0px 1px 3px 1px rgba(60, 64, 67, 0.15);\n",
              "      fill: #174EA6;\n",
              "    }\n",
              "\n",
              "    .colab-df-buttons div {\n",
              "      margin-bottom: 4px;\n",
              "    }\n",
              "\n",
              "    [theme=dark] .colab-df-convert {\n",
              "      background-color: #3B4455;\n",
              "      fill: #D2E3FC;\n",
              "    }\n",
              "\n",
              "    [theme=dark] .colab-df-convert:hover {\n",
              "      background-color: #434B5C;\n",
              "      box-shadow: 0px 1px 3px 1px rgba(0, 0, 0, 0.15);\n",
              "      filter: drop-shadow(0px 1px 2px rgba(0, 0, 0, 0.3));\n",
              "      fill: #FFFFFF;\n",
              "    }\n",
              "  </style>\n",
              "\n",
              "    <script>\n",
              "      const buttonEl =\n",
              "        document.querySelector('#df-c905544e-b9f3-4154-9089-6427292c3400 button.colab-df-convert');\n",
              "      buttonEl.style.display =\n",
              "        google.colab.kernel.accessAllowed ? 'block' : 'none';\n",
              "\n",
              "      async function convertToInteractive(key) {\n",
              "        const element = document.querySelector('#df-c905544e-b9f3-4154-9089-6427292c3400');\n",
              "        const dataTable =\n",
              "          await google.colab.kernel.invokeFunction('convertToInteractive',\n",
              "                                                    [key], {});\n",
              "        if (!dataTable) return;\n",
              "\n",
              "        const docLinkHtml = 'Like what you see? Visit the ' +\n",
              "          '<a target=\"_blank\" href=https://colab.research.google.com/notebooks/data_table.ipynb>data table notebook</a>'\n",
              "          + ' to learn more about interactive tables.';\n",
              "        element.innerHTML = '';\n",
              "        dataTable['output_type'] = 'display_data';\n",
              "        await google.colab.output.renderOutput(dataTable, element);\n",
              "        const docLink = document.createElement('div');\n",
              "        docLink.innerHTML = docLinkHtml;\n",
              "        element.appendChild(docLink);\n",
              "      }\n",
              "    </script>\n",
              "  </div>\n",
              "\n",
              "\n",
              "    <div id=\"df-0ceecaca-d1fa-481a-993f-0bf588f17c54\">\n",
              "      <button class=\"colab-df-quickchart\" onclick=\"quickchart('df-0ceecaca-d1fa-481a-993f-0bf588f17c54')\"\n",
              "                title=\"Suggest charts\"\n",
              "                style=\"display:none;\">\n",
              "\n",
              "<svg xmlns=\"http://www.w3.org/2000/svg\" height=\"24px\"viewBox=\"0 0 24 24\"\n",
              "     width=\"24px\">\n",
              "    <g>\n",
              "        <path d=\"M19 3H5c-1.1 0-2 .9-2 2v14c0 1.1.9 2 2 2h14c1.1 0 2-.9 2-2V5c0-1.1-.9-2-2-2zM9 17H7v-7h2v7zm4 0h-2V7h2v10zm4 0h-2v-4h2v4z\"/>\n",
              "    </g>\n",
              "</svg>\n",
              "      </button>\n",
              "\n",
              "<style>\n",
              "  .colab-df-quickchart {\n",
              "      --bg-color: #E8F0FE;\n",
              "      --fill-color: #1967D2;\n",
              "      --hover-bg-color: #E2EBFA;\n",
              "      --hover-fill-color: #174EA6;\n",
              "      --disabled-fill-color: #AAA;\n",
              "      --disabled-bg-color: #DDD;\n",
              "  }\n",
              "\n",
              "  [theme=dark] .colab-df-quickchart {\n",
              "      --bg-color: #3B4455;\n",
              "      --fill-color: #D2E3FC;\n",
              "      --hover-bg-color: #434B5C;\n",
              "      --hover-fill-color: #FFFFFF;\n",
              "      --disabled-bg-color: #3B4455;\n",
              "      --disabled-fill-color: #666;\n",
              "  }\n",
              "\n",
              "  .colab-df-quickchart {\n",
              "    background-color: var(--bg-color);\n",
              "    border: none;\n",
              "    border-radius: 50%;\n",
              "    cursor: pointer;\n",
              "    display: none;\n",
              "    fill: var(--fill-color);\n",
              "    height: 32px;\n",
              "    padding: 0;\n",
              "    width: 32px;\n",
              "  }\n",
              "\n",
              "  .colab-df-quickchart:hover {\n",
              "    background-color: var(--hover-bg-color);\n",
              "    box-shadow: 0 1px 2px rgba(60, 64, 67, 0.3), 0 1px 3px 1px rgba(60, 64, 67, 0.15);\n",
              "    fill: var(--button-hover-fill-color);\n",
              "  }\n",
              "\n",
              "  .colab-df-quickchart-complete:disabled,\n",
              "  .colab-df-quickchart-complete:disabled:hover {\n",
              "    background-color: var(--disabled-bg-color);\n",
              "    fill: var(--disabled-fill-color);\n",
              "    box-shadow: none;\n",
              "  }\n",
              "\n",
              "  .colab-df-spinner {\n",
              "    border: 2px solid var(--fill-color);\n",
              "    border-color: transparent;\n",
              "    border-bottom-color: var(--fill-color);\n",
              "    animation:\n",
              "      spin 1s steps(1) infinite;\n",
              "  }\n",
              "\n",
              "  @keyframes spin {\n",
              "    0% {\n",
              "      border-color: transparent;\n",
              "      border-bottom-color: var(--fill-color);\n",
              "      border-left-color: var(--fill-color);\n",
              "    }\n",
              "    20% {\n",
              "      border-color: transparent;\n",
              "      border-left-color: var(--fill-color);\n",
              "      border-top-color: var(--fill-color);\n",
              "    }\n",
              "    30% {\n",
              "      border-color: transparent;\n",
              "      border-left-color: var(--fill-color);\n",
              "      border-top-color: var(--fill-color);\n",
              "      border-right-color: var(--fill-color);\n",
              "    }\n",
              "    40% {\n",
              "      border-color: transparent;\n",
              "      border-right-color: var(--fill-color);\n",
              "      border-top-color: var(--fill-color);\n",
              "    }\n",
              "    60% {\n",
              "      border-color: transparent;\n",
              "      border-right-color: var(--fill-color);\n",
              "    }\n",
              "    80% {\n",
              "      border-color: transparent;\n",
              "      border-right-color: var(--fill-color);\n",
              "      border-bottom-color: var(--fill-color);\n",
              "    }\n",
              "    90% {\n",
              "      border-color: transparent;\n",
              "      border-bottom-color: var(--fill-color);\n",
              "    }\n",
              "  }\n",
              "</style>\n",
              "\n",
              "      <script>\n",
              "        async function quickchart(key) {\n",
              "          const quickchartButtonEl =\n",
              "            document.querySelector('#' + key + ' button');\n",
              "          quickchartButtonEl.disabled = true;  // To prevent multiple clicks.\n",
              "          quickchartButtonEl.classList.add('colab-df-spinner');\n",
              "          try {\n",
              "            const charts = await google.colab.kernel.invokeFunction(\n",
              "                'suggestCharts', [key], {});\n",
              "          } catch (error) {\n",
              "            console.error('Error during call to suggestCharts:', error);\n",
              "          }\n",
              "          quickchartButtonEl.classList.remove('colab-df-spinner');\n",
              "          quickchartButtonEl.classList.add('colab-df-quickchart-complete');\n",
              "        }\n",
              "        (() => {\n",
              "          let quickchartButtonEl =\n",
              "            document.querySelector('#df-0ceecaca-d1fa-481a-993f-0bf588f17c54 button');\n",
              "          quickchartButtonEl.style.display =\n",
              "            google.colab.kernel.accessAllowed ? 'block' : 'none';\n",
              "        })();\n",
              "      </script>\n",
              "    </div>\n",
              "\n",
              "  <div id=\"id_f44ca230-ec6d-42b2-ad09-9f7fcbbf3ef9\">\n",
              "    <style>\n",
              "      .colab-df-generate {\n",
              "        background-color: #E8F0FE;\n",
              "        border: none;\n",
              "        border-radius: 50%;\n",
              "        cursor: pointer;\n",
              "        display: none;\n",
              "        fill: #1967D2;\n",
              "        height: 32px;\n",
              "        padding: 0 0 0 0;\n",
              "        width: 32px;\n",
              "      }\n",
              "\n",
              "      .colab-df-generate:hover {\n",
              "        background-color: #E2EBFA;\n",
              "        box-shadow: 0px 1px 2px rgba(60, 64, 67, 0.3), 0px 1px 3px 1px rgba(60, 64, 67, 0.15);\n",
              "        fill: #174EA6;\n",
              "      }\n",
              "\n",
              "      [theme=dark] .colab-df-generate {\n",
              "        background-color: #3B4455;\n",
              "        fill: #D2E3FC;\n",
              "      }\n",
              "\n",
              "      [theme=dark] .colab-df-generate:hover {\n",
              "        background-color: #434B5C;\n",
              "        box-shadow: 0px 1px 3px 1px rgba(0, 0, 0, 0.15);\n",
              "        filter: drop-shadow(0px 1px 2px rgba(0, 0, 0, 0.3));\n",
              "        fill: #FFFFFF;\n",
              "      }\n",
              "    </style>\n",
              "    <button class=\"colab-df-generate\" onclick=\"generateWithVariable('reviews')\"\n",
              "            title=\"Generate code using this dataframe.\"\n",
              "            style=\"display:none;\">\n",
              "\n",
              "  <svg xmlns=\"http://www.w3.org/2000/svg\" height=\"24px\"viewBox=\"0 0 24 24\"\n",
              "       width=\"24px\">\n",
              "    <path d=\"M7,19H8.4L18.45,9,17,7.55,7,17.6ZM5,21V16.75L18.45,3.32a2,2,0,0,1,2.83,0l1.4,1.43a1.91,1.91,0,0,1,.58,1.4,1.91,1.91,0,0,1-.58,1.4L9.25,21ZM18.45,9,17,7.55Zm-12,3A5.31,5.31,0,0,0,4.9,8.1,5.31,5.31,0,0,0,1,6.5,5.31,5.31,0,0,0,4.9,4.9,5.31,5.31,0,0,0,6.5,1,5.31,5.31,0,0,0,8.1,4.9,5.31,5.31,0,0,0,12,6.5,5.46,5.46,0,0,0,6.5,12Z\"/>\n",
              "  </svg>\n",
              "    </button>\n",
              "    <script>\n",
              "      (() => {\n",
              "      const buttonEl =\n",
              "        document.querySelector('#id_f44ca230-ec6d-42b2-ad09-9f7fcbbf3ef9 button.colab-df-generate');\n",
              "      buttonEl.style.display =\n",
              "        google.colab.kernel.accessAllowed ? 'block' : 'none';\n",
              "\n",
              "      buttonEl.onclick = () => {\n",
              "        google.colab.notebook.generateWithVariable('reviews');\n",
              "      }\n",
              "      })();\n",
              "    </script>\n",
              "  </div>\n",
              "\n",
              "    </div>\n",
              "  </div>\n"
            ],
            "application/vnd.google.colaboratory.intrinsic+json": {
              "type": "dataframe",
              "variable_name": "reviews",
              "summary": "{\n  \"name\": \"reviews\",\n  \"rows\": 300,\n  \"fields\": [\n    {\n      \"column\": \"Score\",\n      \"properties\": {\n        \"dtype\": \"number\",\n        \"std\": 1,\n        \"min\": 1,\n        \"max\": 5,\n        \"num_unique_values\": 5,\n        \"samples\": [\n          1,\n          3,\n          4\n        ],\n        \"semantic_type\": \"\",\n        \"description\": \"\"\n      }\n    },\n    {\n      \"column\": \"Text\",\n      \"properties\": {\n        \"dtype\": \"string\",\n        \"num_unique_values\": 299,\n        \"samples\": [\n          \"I paid $1.79 for a 2 ounce pkg of these at lunch today. I bought them because brown rice is a \\\"good\\\" carb.  As soon as I tasted one and it tasted like a corn chip I checked the ingredients.  The name is deceptive - these have \\\"Masa corn flour\\\" listed in the ingredients and it overwhelms the taste.  I won't buy these again - I can get Sunchips for less money and similar taste.\",\n          \"Product is exactly as advertised.  What a savings!  At least half the retail price. Easy to store because of the individual packaging.\",\n          \"I read about pomegranate molasses so I had to try it! I haven't made anything with it yet, just eaten a little bit at a time but WOW is it decadent! It's dark, syrupy, sour, and a little sweet. A dab of this and I forget about dessert. It's just a really unique flavor with a pleasing metallic undertone. Yum!! I'm going to try making fesenjan next :-)\"\n        ],\n        \"semantic_type\": \"\",\n        \"description\": \"\"\n      }\n    }\n  ]\n}"
            }
          },
          "metadata": {},
          "execution_count": 3
        }
      ]
    },
    {
      "cell_type": "code",
      "source": [
        "reviews.info()"
      ],
      "metadata": {
        "id": "MWaap1YyEc6b"
      },
      "execution_count": null,
      "outputs": []
    },
    {
      "cell_type": "code",
      "source": [
        "reviews.describe()"
      ],
      "metadata": {
        "id": "fCjJnbXqEVM7"
      },
      "execution_count": null,
      "outputs": []
    },
    {
      "cell_type": "code",
      "source": [
        "reviews.isna().sum()"
      ],
      "metadata": {
        "id": "zpESpn7NFGZb"
      },
      "execution_count": null,
      "outputs": []
    },
    {
      "cell_type": "markdown",
      "source": [
        "# LLM model"
      ],
      "metadata": {
        "id": "6chS7dNoFNcD"
      }
    },
    {
      "cell_type": "code",
      "source": [
        "model_name_or_path = \"meta-llama/Meta-Llama-3-8B-Instruct\"\n",
        "quantization_config = BitsAndBytesConfig(load_in_8bit=True)"
      ],
      "metadata": {
        "id": "VtQmrNhQU-eX"
      },
      "execution_count": 4,
      "outputs": []
    },
    {
      "cell_type": "code",
      "source": [
        "\n",
        "model = AutoModelForCausalLM.from_pretrained(model_name_or_path,\n",
        "                                             quantization_config=quantization_config,\n",
        "                                             device_map=\"auto\",\n",
        "                                             torch_dtype = torch.float16,\n",
        "                                            trust_remote_code=True)\n",
        "\n",
        "tokenizer = AutoTokenizer.from_pretrained(model_name_or_path,\n",
        "                                          trust_remote_code=True)"
      ],
      "metadata": {
        "id": "QjGFHOu7FQoe"
      },
      "execution_count": null,
      "outputs": []
    },
    {
      "cell_type": "code",
      "source": [
        "system_prompt = \"\"\" You will be given a review of a client. \\\n",
        "    Return a JSON output that has: \\\n",
        "    Review_text: the text in the review. \\\n",
        "    Score: a score that indicates how far the client is on a scale from 1 to 5 (focus on the world that describes the product). \\\n",
        "    Product: the product name that the customer made the review on(if it's in the review_text, else return \"not mentioned\"). \\\n",
        "    Category: the of the category product (if product is \"not mentioned\", it should be \"not mentioned\").. \\\n",
        "\n",
        "    Only return the JSON output and nothing else. \\\n",
        "    Be concise and do not return any introduction or conclusion. \\\n",
        "    \"\"\"\n",
        "\n"
      ],
      "metadata": {
        "id": "Q8xl7MChNSW2"
      },
      "execution_count": 35,
      "outputs": []
    },
    {
      "cell_type": "code",
      "source": [
        "pipe = pipeline(\n",
        "    task = \"text-generation\",\n",
        "    model = model,\n",
        "    tokenizer = tokenizer,\n",
        "    max_new_tokens = 128,\n",
        "    temperature = 0.1,\n",
        "    do_sample = True,\n",
        "    return_full_text = False\n",
        ")\n",
        "hf_pipeline = HuggingFacePipeline(pipeline=pipe)\n",
        "\n",
        "template = ChatPromptTemplate(\n",
        "    [\n",
        "        (\"system\", system_prompt),\n",
        "        (\"human\", \"{user_query}\"),\n",
        "    ]\n",
        ")\n",
        "\n",
        "llm = ChatHuggingFace(llm=hf_pipeline)\n",
        "parser = JsonOutputParser()\n",
        "chain = template | llm |parser"
      ],
      "metadata": {
        "id": "RMNz7oz2IpUn"
      },
      "execution_count": null,
      "outputs": []
    },
    {
      "cell_type": "markdown",
      "source": [
        "# validation\n",
        "don't run it, takes a lot of time"
      ],
      "metadata": {
        "id": "Zc1pDTjWqkVE"
      }
    },
    {
      "cell_type": "code",
      "source": [
        "user_query = reviews.iloc[0:100,1]\n",
        "reviews_list=[]\n",
        "for review in user_query:\n",
        "    reviews_list.append({\"user_query\":review})"
      ],
      "metadata": {
        "id": "qT9xYjgJRiA9"
      },
      "execution_count": 43,
      "outputs": []
    },
    {
      "cell_type": "code",
      "source": [
        "result = chain.batch(reviews_list)"
      ],
      "metadata": {
        "id": "uTbMaiKmI6PW"
      },
      "execution_count": null,
      "outputs": []
    },
    {
      "cell_type": "code",
      "source": [
        "result_scores = []\n",
        "for rec in result:\n",
        "    if \"score\" in rec.keys():\n",
        "        result_scores.append(rec[\"score\"])\n",
        "    elif \"Score\" in rec.keys():\n",
        "        result_scores.append(rec[\"Score\"])\n",
        "    else:\n",
        "        result_scores.append(0)"
      ],
      "metadata": {
        "id": "aOiR7UUeiqaP"
      },
      "execution_count": 66,
      "outputs": []
    },
    {
      "cell_type": "code",
      "source": [
        "scores = reviews.iloc[0:100,0]"
      ],
      "metadata": {
        "id": "cwiNWvTgi4uw"
      },
      "execution_count": 67,
      "outputs": []
    },
    {
      "cell_type": "code",
      "source": [
        "import numpy as np\n",
        "import matplotlib.pyplot as plt\n",
        "from scipy.stats import pearsonr , spearmanr\n",
        "\n",
        "y_pred = result_scores\n",
        "y_true = scores\n",
        "\n",
        "mea = np.mean(np.abs(y_true - y_pred))\n",
        "mse = np.mean((y_true - y_pred)**2)\n",
        "pearson, _ = pearsonr(y_true, y_pred)\n",
        "spearman_corr, _ = spearmanr(y_true, y_pred)\n",
        "\n",
        "print(\"Mean Absolute Error (MAE):\", mea)\n",
        "print(\"Mean Squared Error (MSE):\", mse)\n",
        "print(\"Pearson Correlation Coefficient:\", pearson)\n",
        "print(\"Spearman's Rank Correlation Coefficient:\", spearman_corr)"
      ],
      "metadata": {
        "id": "-UXnrb9OqoF7"
      },
      "execution_count": null,
      "outputs": []
    },
    {
      "cell_type": "code",
      "source": [
        "plt.figure(figsize=(25, 5))\n",
        "\n",
        "plt.subplot(1, 2, 1)\n",
        "x = np.arange(len(y_true))\n",
        "plt.plot(x, y_true, label='True Values', color='blue')\n",
        "plt.plot(x, y_pred, label='Predicted Values', color='red',linewidth = 2.5 , marker= \"o\",alpha = 0.8)\n",
        "\n",
        "plt.fill_between(x, y_true, y_pred, color='gray', alpha=0.3, label='Prediction Interval')\n",
        "plt.xlabel('True Values', fontsize=15)\n",
        "plt.ylabel('Predictions', fontsize=15)\n",
        "plt.title('True Values vs. Predictions', fontsize=15)\n",
        "plt.legend()\n",
        "\n",
        "plt.show()"
      ],
      "metadata": {
        "id": "MyFX_T0HrUyV"
      },
      "execution_count": null,
      "outputs": []
    },
    {
      "cell_type": "markdown",
      "source": [
        "# try here"
      ],
      "metadata": {
        "id": "nq1MeeYHyDEo"
      }
    },
    {
      "cell_type": "code",
      "source": [
        "user_query = input(\"enter your input\")"
      ],
      "metadata": {
        "id": "4khkRTCwyKal"
      },
      "execution_count": null,
      "outputs": []
    },
    {
      "cell_type": "code",
      "source": [
        "chain.invoke({\"user_query\":user_query})"
      ],
      "metadata": {
        "id": "gN7gKeWAyCp7"
      },
      "execution_count": null,
      "outputs": []
    }
  ]
}